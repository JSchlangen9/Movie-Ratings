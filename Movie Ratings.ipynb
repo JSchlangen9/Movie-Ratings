{
 "cells": [
  {
   "cell_type": "code",
   "execution_count": 2,
   "metadata": {},
   "outputs": [],
   "source": [
    "import pandas as pd\n",
    "import numpy as np\n",
    "import requests\n",
    "from io import StringIO"
   ]
  },
  {
   "cell_type": "code",
   "execution_count": 3,
   "metadata": {},
   "outputs": [],
   "source": [
    "#Reading in Dataframe from project github repository\n",
    "url_users = 'https://raw.githubusercontent.com/JSchlangen9/Movie-Ratings/main/users.csv'\n",
    "url_movies = 'https://raw.githubusercontent.com/JSchlangen9/Movie-Ratings/main/movies.csv'\n",
    "url_train = 'https://raw.githubusercontent.com/JSchlangen9/Movie-Ratings/main/train.csv'\n",
    "url_test = 'https://raw.githubusercontent.com/JSchlangen9/Movie-Ratings/main/test.csv'\n",
    "\n",
    "file_users = requests.get(url_users)\n",
    "file_movies = requests.get(url_movies)\n",
    "file_train = requests.get(url_train)\n",
    "file_test = requests.get(url_test)\n",
    "\n",
    "string_users = StringIO(file_users.text)\n",
    "string_movies = StringIO(file_movies.text)\n",
    "string_train = StringIO(file_train.text)\n",
    "string_test = StringIO(file_test.text)\n",
    "\n",
    "MV_users = pd.read_csv(string_users)\n",
    "MV_movies = pd.read_csv(string_movies)\n",
    "train = pd.read_csv(string_train)\n",
    "test = pd.read_csv(string_test)"
   ]
  }
 ],
 "metadata": {
  "kernelspec": {
   "display_name": "Python 3",
   "language": "python",
   "name": "python3"
  },
  "language_info": {
   "codemirror_mode": {
    "name": "ipython",
    "version": 3
   },
   "file_extension": ".py",
   "mimetype": "text/x-python",
   "name": "python",
   "nbconvert_exporter": "python",
   "pygments_lexer": "ipython3",
   "version": "3.11.5"
  },
  "orig_nbformat": 4
 },
 "nbformat": 4,
 "nbformat_minor": 2
}

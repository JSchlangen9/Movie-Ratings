{
 "cells": [
  {
   "cell_type": "code",
   "execution_count": 18,
   "metadata": {},
   "outputs": [],
   "source": [
    "import pandas as pd\n",
    "import numpy as np\n",
    "import requests\n",
    "from io import StringIO\n",
    "from collections import namedtuple\n",
    "from sklearn.model_selection import train_test_split\n",
    "from sklearn.metrics import root_mean_squared_error\n",
    "from scipy.sparse import coo_matrix, csr_matrix\n",
    "from sklearn.decomposition import NMF"
   ]
  },
  {
   "cell_type": "code",
   "execution_count": 19,
   "metadata": {},
   "outputs": [],
   "source": [
    "#Reading in Dataframe from project github repository\n",
    "url_users = 'https://raw.githubusercontent.com/JSchlangen9/Movie-Ratings/main/users.csv'\n",
    "url_movies = 'https://raw.githubusercontent.com/JSchlangen9/Movie-Ratings/main/movies.csv'\n",
    "url_train = 'https://raw.githubusercontent.com/JSchlangen9/Movie-Ratings/main/train.csv'\n",
    "url_test = 'https://raw.githubusercontent.com/JSchlangen9/Movie-Ratings/main/test.csv'\n",
    "\n",
    "file_users = requests.get(url_users)\n",
    "file_movies = requests.get(url_movies)\n",
    "file_train = requests.get(url_train)\n",
    "file_test = requests.get(url_test)\n",
    "\n",
    "string_users = StringIO(file_users.text)\n",
    "string_movies = StringIO(file_movies.text)\n",
    "string_train = StringIO(file_train.text)\n",
    "string_test = StringIO(file_test.text)\n",
    "\n",
    "MV_users = pd.read_csv(string_users)\n",
    "MV_movies = pd.read_csv(string_movies)\n",
    "train = pd.read_csv(string_train)\n",
    "test = pd.read_csv(string_test)"
   ]
  },
  {
   "cell_type": "code",
   "execution_count": 20,
   "metadata": {},
   "outputs": [],
   "source": [
    "Data = namedtuple('Data', ['users','movies','train','test'])\n",
    "data = Data(MV_users, MV_movies, train, test)"
   ]
  },
  {
   "cell_type": "code",
   "execution_count": 21,
   "metadata": {},
   "outputs": [],
   "source": [
    "class RecSys():\n",
    "    def __init__(self,data):\n",
    "        self.data=data\n",
    "        self.allusers = list(self.data.users['uID'])\n",
    "        self.allmovies = list(self.data.movies['mID'])\n",
    "        self.genres = list(self.data.movies.columns.drop(['mID', 'title', 'year']))\n",
    "        self.mid2idx = dict(zip(self.data.movies.mID,list(range(len(self.data.movies)))))\n",
    "        self.uid2idx = dict(zip(self.data.users.uID,list(range(len(self.data.users)))))\n",
    "        self.Mr=self.rating_matrix()\n",
    "        self.Mm=None \n",
    "        self.sim=np.zeros((len(self.allmovies),len(self.allmovies)))\n",
    "        \n",
    "    def rating_matrix(self):\n",
    "        \"\"\"\n",
    "        Convert the rating matrix to numpy array of shape (#allusers,#allmovies)\n",
    "        \"\"\"\n",
    "        ind_movie = [self.mid2idx[x] for x in self.data.train.mID] \n",
    "        ind_user = [self.uid2idx[x] for x in self.data.train.uID]\n",
    "        rating_train = list(self.data.train.rating)\n",
    "        \n",
    "        return np.array(coo_matrix((rating_train, (ind_user, ind_movie)), shape=(len(self.allusers), len(self.allmovies))).toarray())\n",
    "    \n",
    "    def predict_to_user_average(self):\n",
    "        \"\"\"\n",
    "        Predict to average rating for the user.\n",
    "        Returns numpy array of shape (#users,)\n",
    "        \"\"\"\n",
    "        # Generate an array as follows:\n",
    "        # 1. Calculate all avg user rating as sum of ratings of user across all movies/number of movies whose rating > 0\n",
    "        # 2. Return the average rating of users in test data\n",
    "        # your code here\n",
    "        users = np.array(self.data.test['uID'])\n",
    "        x = np.zeros(len(users))\n",
    "        \n",
    "        for i in range(len(x)):\n",
    "            idx = self.uid2idx[users[i]]\n",
    "            avg = self.Mr[idx][np.nonzero(self.Mr[idx])].mean()\n",
    "            x[i] = avg\n",
    "            \n",
    "        return x"
   ]
  },
  {
   "cell_type": "code",
   "execution_count": 22,
   "metadata": {},
   "outputs": [
    {
     "name": "stdout",
     "output_type": "stream",
     "text": [
      "RMSE: 2.6942996973225916e-16\n"
     ]
    },
    {
     "name": "stderr",
     "output_type": "stream",
     "text": [
      "/Library/Frameworks/Python.framework/Versions/3.11/lib/python3.11/site-packages/sklearn/decomposition/_nmf.py:1199: FutureWarning: The default value of `n_components` will change from `None` to `'auto'` in 1.6. Set the value of `n_components` to `None` explicitly to suppress the warning.\n",
      "  warnings.warn(\n",
      "/Library/Frameworks/Python.framework/Versions/3.11/lib/python3.11/site-packages/sklearn/decomposition/_nmf.py:1770: ConvergenceWarning: Maximum number of iterations 200 reached. Increase it to improve convergence.\n",
      "  warnings.warn(\n"
     ]
    }
   ],
   "source": [
    "rs = RecSys(data)\n",
    "rm = rs.rating_matrix()\n",
    "avg = rs.predict_to_user_average()[0:len(rs.allusers)]\n",
    "\n",
    "model = NMF()\n",
    "W = model.fit_transform(np.array(avg).reshape(-1, 1))\n",
    "H = model.components_\n",
    "\n",
    "vals = np.matmul(W, H.transpose())\n",
    "\n",
    "print('RMSE:',  root_mean_squared_error(vals, avg))"
   ]
  },
  {
   "cell_type": "markdown",
   "metadata": {},
   "source": [
    "## Discussion\n",
    "\n",
    "Overall, the model produced generated a very low root mean squared error, however we are not confident in the model's ability to predict acurately. We could look to improve the performance of the model by using different techniques as opposed to matrix factorization. It is helpful when we can use matrix factorization to find aspects of the data that make it different from other data points for a model to learn. This technique could cause the model to incorrectly interpret the movie ratings and which movies were not rated, which would ultimately deliver an inaccurate prediction. Building a model using movie rating by movie genre would be more helpful and easier for a model to learn."
   ]
  }
 ],
 "metadata": {
  "kernelspec": {
   "display_name": "Python 3",
   "language": "python",
   "name": "python3"
  },
  "language_info": {
   "codemirror_mode": {
    "name": "ipython",
    "version": 3
   },
   "file_extension": ".py",
   "mimetype": "text/x-python",
   "name": "python",
   "nbconvert_exporter": "python",
   "pygments_lexer": "ipython3",
   "version": "3.11.5"
  },
  "orig_nbformat": 4
 },
 "nbformat": 4,
 "nbformat_minor": 2
}
